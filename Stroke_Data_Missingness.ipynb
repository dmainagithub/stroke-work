{
 "cells": [
  {
   "attachments": {},
   "cell_type": "markdown",
   "metadata": {},
   "source": [
    "### Libraries"
   ]
  },
  {
   "cell_type": "code",
   "execution_count": 1,
   "metadata": {},
   "outputs": [],
   "source": [
    "import pandas as pd\n",
    "import seaborn as sns\n",
    "import matplotlib.pyplot as plt"
   ]
  },
  {
   "attachments": {},
   "cell_type": "markdown",
   "metadata": {},
   "source": [
    "### Import data"
   ]
  },
  {
   "cell_type": "code",
   "execution_count": 3,
   "metadata": {},
   "outputs": [
    {
     "data": {
      "text/html": [
       "<div>\n",
       "<style scoped>\n",
       "    .dataframe tbody tr th:only-of-type {\n",
       "        vertical-align: middle;\n",
       "    }\n",
       "\n",
       "    .dataframe tbody tr th {\n",
       "        vertical-align: top;\n",
       "    }\n",
       "\n",
       "    .dataframe thead th {\n",
       "        text-align: right;\n",
       "    }\n",
       "</style>\n",
       "<table border=\"1\" class=\"dataframe\">\n",
       "  <thead>\n",
       "    <tr style=\"text-align: right;\">\n",
       "      <th></th>\n",
       "      <th>individual_id</th>\n",
       "      <th>age</th>\n",
       "      <th>dod</th>\n",
       "      <th>sex</th>\n",
       "      <th>obs_date</th>\n",
       "      <th>source</th>\n",
       "      <th>hdss_name</th>\n",
       "      <th>alco_ever</th>\n",
       "      <th>alco_12m</th>\n",
       "      <th>alco_30d</th>\n",
       "      <th>...</th>\n",
       "      <th>alcohol_use</th>\n",
       "      <th>tobacco_use</th>\n",
       "      <th>stroke_status_derived_age</th>\n",
       "      <th>hpt_status_derived_age</th>\n",
       "      <th>diab_status_derived_age</th>\n",
       "      <th>hiv_status_derived_age</th>\n",
       "      <th>stroke_status_derived_incident</th>\n",
       "      <th>hpt_status_derived_incident</th>\n",
       "      <th>diab_status_derived_incident</th>\n",
       "      <th>hiv_status_derived_incident</th>\n",
       "    </tr>\n",
       "  </thead>\n",
       "  <tbody>\n",
       "    <tr>\n",
       "      <th>0</th>\n",
       "      <td>000025C5-5811-4942-8957-8A1A4FF1460F</td>\n",
       "      <td>35</td>\n",
       "      <td>NaN</td>\n",
       "      <td>2</td>\n",
       "      <td>2008-07-26</td>\n",
       "      <td>Assess Linkages Main</td>\n",
       "      <td>Nairobi</td>\n",
       "      <td>0.0</td>\n",
       "      <td>NaN</td>\n",
       "      <td>NaN</td>\n",
       "      <td>...</td>\n",
       "      <td>888</td>\n",
       "      <td>0.0</td>\n",
       "      <td>35.0</td>\n",
       "      <td>35.0</td>\n",
       "      <td>35.0</td>\n",
       "      <td>35.0</td>\n",
       "      <td>0</td>\n",
       "      <td>0</td>\n",
       "      <td>0</td>\n",
       "      <td>0</td>\n",
       "    </tr>\n",
       "    <tr>\n",
       "      <th>1</th>\n",
       "      <td>000025C5-5811-4942-8957-8A1A4FF1460F</td>\n",
       "      <td>39</td>\n",
       "      <td>NaN</td>\n",
       "      <td>2</td>\n",
       "      <td>2012-09-30</td>\n",
       "      <td>SCALEUP Population Baseline</td>\n",
       "      <td>Nairobi</td>\n",
       "      <td>NaN</td>\n",
       "      <td>0.0</td>\n",
       "      <td>NaN</td>\n",
       "      <td>...</td>\n",
       "      <td>0</td>\n",
       "      <td>0.0</td>\n",
       "      <td>39.0</td>\n",
       "      <td>39.0</td>\n",
       "      <td>39.0</td>\n",
       "      <td>39.0</td>\n",
       "      <td>0</td>\n",
       "      <td>1</td>\n",
       "      <td>0</td>\n",
       "      <td>0</td>\n",
       "    </tr>\n",
       "    <tr>\n",
       "      <th>2</th>\n",
       "      <td>0004A623-93CA-4D53-B10C-805B27EFD98F</td>\n",
       "      <td>36</td>\n",
       "      <td>NaN</td>\n",
       "      <td>1</td>\n",
       "      <td>2012-08-26</td>\n",
       "      <td>SCALEUP Population Baseline</td>\n",
       "      <td>Nairobi</td>\n",
       "      <td>NaN</td>\n",
       "      <td>0.0</td>\n",
       "      <td>NaN</td>\n",
       "      <td>...</td>\n",
       "      <td>0</td>\n",
       "      <td>0.0</td>\n",
       "      <td>36.0</td>\n",
       "      <td>36.0</td>\n",
       "      <td>36.0</td>\n",
       "      <td>36.0</td>\n",
       "      <td>0</td>\n",
       "      <td>1</td>\n",
       "      <td>0</td>\n",
       "      <td>0</td>\n",
       "    </tr>\n",
       "    <tr>\n",
       "      <th>3</th>\n",
       "      <td>000D523D-F549-40B3-B8E1-2FF517084EB0</td>\n",
       "      <td>56</td>\n",
       "      <td>NaN</td>\n",
       "      <td>1</td>\n",
       "      <td>2008-04-30</td>\n",
       "      <td>Assess Linkages Main</td>\n",
       "      <td>Nairobi</td>\n",
       "      <td>0.0</td>\n",
       "      <td>NaN</td>\n",
       "      <td>NaN</td>\n",
       "      <td>...</td>\n",
       "      <td>888</td>\n",
       "      <td>0.0</td>\n",
       "      <td>56.0</td>\n",
       "      <td>56.0</td>\n",
       "      <td>56.0</td>\n",
       "      <td>56.0</td>\n",
       "      <td>0</td>\n",
       "      <td>1</td>\n",
       "      <td>0</td>\n",
       "      <td>0</td>\n",
       "    </tr>\n",
       "    <tr>\n",
       "      <th>4</th>\n",
       "      <td>000D523D-F549-40B3-B8E1-2FF517084EB0</td>\n",
       "      <td>61</td>\n",
       "      <td>NaN</td>\n",
       "      <td>1</td>\n",
       "      <td>2012-08-24</td>\n",
       "      <td>SCALEUP Population Baseline</td>\n",
       "      <td>Nairobi</td>\n",
       "      <td>NaN</td>\n",
       "      <td>0.0</td>\n",
       "      <td>NaN</td>\n",
       "      <td>...</td>\n",
       "      <td>0</td>\n",
       "      <td>0.0</td>\n",
       "      <td>61.0</td>\n",
       "      <td>56.0</td>\n",
       "      <td>61.0</td>\n",
       "      <td>61.0</td>\n",
       "      <td>0</td>\n",
       "      <td>0</td>\n",
       "      <td>0</td>\n",
       "      <td>0</td>\n",
       "    </tr>\n",
       "  </tbody>\n",
       "</table>\n",
       "<p>5 rows × 111 columns</p>\n",
       "</div>"
      ],
      "text/plain": [
       "                          individual_id  age  dod  sex    obs_date  \\\n",
       "0  000025C5-5811-4942-8957-8A1A4FF1460F   35  NaN    2  2008-07-26   \n",
       "1  000025C5-5811-4942-8957-8A1A4FF1460F   39  NaN    2  2012-09-30   \n",
       "2  0004A623-93CA-4D53-B10C-805B27EFD98F   36  NaN    1  2012-08-26   \n",
       "3  000D523D-F549-40B3-B8E1-2FF517084EB0   56  NaN    1  2008-04-30   \n",
       "4  000D523D-F549-40B3-B8E1-2FF517084EB0   61  NaN    1  2012-08-24   \n",
       "\n",
       "                        source hdss_name  alco_ever  alco_12m  alco_30d  ...  \\\n",
       "0         Assess Linkages Main   Nairobi        0.0       NaN       NaN  ...   \n",
       "1  SCALEUP Population Baseline   Nairobi        NaN       0.0       NaN  ...   \n",
       "2  SCALEUP Population Baseline   Nairobi        NaN       0.0       NaN  ...   \n",
       "3         Assess Linkages Main   Nairobi        0.0       NaN       NaN  ...   \n",
       "4  SCALEUP Population Baseline   Nairobi        NaN       0.0       NaN  ...   \n",
       "\n",
       "   alcohol_use  tobacco_use  stroke_status_derived_age  \\\n",
       "0          888          0.0                       35.0   \n",
       "1            0          0.0                       39.0   \n",
       "2            0          0.0                       36.0   \n",
       "3          888          0.0                       56.0   \n",
       "4            0          0.0                       61.0   \n",
       "\n",
       "   hpt_status_derived_age  diab_status_derived_age  hiv_status_derived_age  \\\n",
       "0                    35.0                     35.0                    35.0   \n",
       "1                    39.0                     39.0                    39.0   \n",
       "2                    36.0                     36.0                    36.0   \n",
       "3                    56.0                     56.0                    56.0   \n",
       "4                    56.0                     61.0                    61.0   \n",
       "\n",
       "   stroke_status_derived_incident  hpt_status_derived_incident  \\\n",
       "0                               0                            0   \n",
       "1                               0                            1   \n",
       "2                               0                            1   \n",
       "3                               0                            1   \n",
       "4                               0                            0   \n",
       "\n",
       "   diab_status_derived_incident  hiv_status_derived_incident  \n",
       "0                             0                            0  \n",
       "1                             0                            0  \n",
       "2                             0                            0  \n",
       "3                             0                            0  \n",
       "4                             0                            0  \n",
       "\n",
       "[5 rows x 111 columns]"
      ]
     },
     "execution_count": 3,
     "metadata": {},
     "output_type": "execute_result"
    }
   ],
   "source": [
    "df = pd.read_csv(\"cleaned_data/df_processed.csv\")\n",
    "df_copy = df.copy()\n",
    "df.head()"
   ]
  },
  {
   "attachments": {},
   "cell_type": "markdown",
   "metadata": {},
   "source": [
    "### Descriptives\n",
    "\n",
    "#### Total individuals vs. stroke cases"
   ]
  },
  {
   "cell_type": "code",
   "execution_count": 18,
   "metadata": {},
   "outputs": [
    {
     "name": "stdout",
     "output_type": "stream",
     "text": [
      "The number of total records are  ,    (46769, 111)\n",
      "Number of unique individuals     ,    25486\n",
      "Number of individuals with stroke,    1094\n"
     ]
    }
   ],
   "source": [
    "total_records = df.shape\n",
    "total = df.individual_id.nunique()\n",
    "stroke_cases = df.loc[df.stroke_status_derived == 1, 'individual_id'].nunique()\n",
    "               \n",
    "print(f\"The number of total records are  ,    {total_records}\")\n",
    "print(f\"Number of unique individuals     ,    {total}\")\n",
    "print(f\"Number of individuals with stroke,    {stroke_cases}\")"
   ]
  },
  {
   "attachments": {},
   "cell_type": "markdown",
   "metadata": {},
   "source": [
    "### Drop unnecessary columns"
   ]
  },
  {
   "cell_type": "code",
   "execution_count": 11,
   "metadata": {},
   "outputs": [
    {
     "name": "stdout",
     "output_type": "stream",
     "text": [
      "['individual_id', 'age', 'dod', 'sex', 'obs_date', 'source', 'hdss_name', 'alco_ever', 'alco_12m', 'alco_30d', 'alco_bing_y', 'tobac_ever', 'tobac_cur', 'tobac_smkls_ever', 'tobac_p_daily', 'tobac_freq', 'fd_fruitservings', 'fd_meals_outhome_ave', 'fd_diet_change', 'fd_fruit_days', 'fd_veg_days', 'fd_eat_drink_12h', 'fd_oil_type', 'fd_veg_servings', 'actv_walk_bicycle_days', 'actv_vigorous_sports_min', 'actv_mpa_minutes', 'actv_moderate_sports_hrs', 'actv_vigorous_sports', 'actv_mpa_days', 'actv_vpa_days', 'actv_sitting_or_standing', 'actv_walk_bicycle_min', 'actv_vpa_hrs', 'actv_walk_bicycle_hrs', 'actv_walk_bicycle', 'actv_moderate_sports_days', 'actv_mpa_hrs', 'actv_sitting_min', 'actv_moderate_sports_min', 'actv_sleeping_hrs', 'actv_vigorous_sports_days', 'actv_moderate_sports', 'actv_vpa_minutes', 'actv_vpa', 'actv_mpa', 'actv_vigorous_sports_hrs', 'actv_mvpa', 'actv_sitting_hrs', 'stroke_ever', 'stroke_numb', 'stroke_wkness', 'stroke_paralysis_ever', 'stroke_blind', 'stroke_trans_isc_ever', 'stroke_parents', 'stroke_sibling', 'stroke_other', 'stroke_children', 'stroke_fhx', 'hpt_ever', 'hpt_rx_ever', 'hpt_12m', 'bp_sys', 'bp_dia', 'bg_mmol_fst', 'bg_mmol_random', 'diab_hx', 'diab_12m', 'diab_rx_ever', 'diab_rx_current', 'diab_rx_other', 'diab_rx_2w', 'diab_rx_12m', 'diab_rx_trad_curr', 'diab_rx_other_2w', 'kidney_rx', 'pi_acr', 'stroke_undstn', 'stroke_verbal', 'vision_problem', 'stroke_hl_vis', 'sex_no_condom_hiv_person', 'hiv_tested_when_d', 'hiv_rx_trad_ever', 'hiv_counselled', 'hiv_tested', 'hiv_tested_when_c', 'hiv_tested_month', 'hiv_tested_yr', 'hiv_status_slf_rpt', 'hiv_test_result', 'stroke_status_derived', 'hiv_status_derived', 'hpt_status_derived', 'obese_status_derived', 'diab_status_derived', 'tb_status_derived', 'bmi', 'bmi_refined', 'is_outlier', 'alcohol_use', 'tobacco_use', 'stroke_status_derived_age', 'hpt_status_derived_age', 'diab_status_derived_age', 'hiv_status_derived_age', 'stroke_status_derived_incident', 'hpt_status_derived_incident', 'diab_status_derived_incident', 'hiv_status_derived_incident']\n"
     ]
    }
   ],
   "source": [
    "print(df.columns.to_list())"
   ]
  },
  {
   "attachments": {},
   "cell_type": "markdown",
   "metadata": {},
   "source": [
    "### Checking for missingness"
   ]
  },
  {
   "cell_type": "code",
   "execution_count": 7,
   "metadata": {},
   "outputs": [
    {
     "data": {
      "text/plain": [
       "individual_id                      0.000000\n",
       "age                                0.000000\n",
       "dod                               86.129701\n",
       "sex                                0.000000\n",
       "obs_date                           0.000000\n",
       "                                    ...    \n",
       "hiv_status_derived_age             0.000000\n",
       "stroke_status_derived_incident     0.000000\n",
       "hpt_status_derived_incident        0.000000\n",
       "diab_status_derived_incident       0.000000\n",
       "hiv_status_derived_incident        0.000000\n",
       "Length: 111, dtype: float64"
      ]
     },
     "execution_count": 7,
     "metadata": {},
     "output_type": "execute_result"
    }
   ],
   "source": [
    "# Count missing values per column\n",
    "df.isnull().sum()\n",
    "\n",
    "# Percentage of missing values\n",
    "df.isnull().mean() * 100"
   ]
  },
  {
   "attachments": {},
   "cell_type": "markdown",
   "metadata": {},
   "source": [
    "### Summary table for missingness"
   ]
  },
  {
   "cell_type": "code",
   "execution_count": 8,
   "metadata": {},
   "outputs": [
    {
     "name": "stdout",
     "output_type": "stream",
     "text": [
      "                                Missing Values  Missing %\n",
      "tobac_p_daily                            46769      100.0\n",
      "stroke_paralysis_ever                    46769      100.0\n",
      "stroke_trans_isc_ever                    46769      100.0\n",
      "hiv_rx_trad_ever                         46769      100.0\n",
      "hiv_tested_when_d                        46769      100.0\n",
      "...                                        ...        ...\n",
      "hiv_status_derived_age                       0        0.0\n",
      "stroke_status_derived_incident               0        0.0\n",
      "hpt_status_derived_incident                  0        0.0\n",
      "diab_status_derived_incident                 0        0.0\n",
      "hiv_status_derived_incident                  0        0.0\n",
      "\n",
      "[111 rows x 2 columns]\n"
     ]
    }
   ],
   "source": [
    "missing_summary = pd.DataFrame({\n",
    "    'Missing Values': df.isnull().sum(),\n",
    "    'Missing %': df.isnull().mean() * 100\n",
    "}).sort_values(by='Missing %', ascending=False)\n",
    "\n",
    "print(missing_summary)"
   ]
  },
  {
   "attachments": {},
   "cell_type": "markdown",
   "metadata": {},
   "source": [
    "### Visualize missingness"
   ]
  },
  {
   "cell_type": "code",
   "execution_count": 6,
   "metadata": {},
   "outputs": [
    {
     "data": {
      "image/png": "[encoded data removed]",
      "text/plain": [
       "<Figure size 1200x600 with 1 Axes>"
      ]
     },
     "metadata": {},
     "output_type": "display_data"
    }
   ],
   "source": [
    "# Heatmap\n",
    "plt.figure(figsize=(12,6))\n",
    "sns.heatmap(df[[\n",
    "    'age', 'bmi', 'hiv_status_derived', 'hpt_status_derived',\n",
    "    'obese_status_derived', 'diab_status_derived', 'tb_status_derived','stroke_status_derived'\n",
    "]].isnull(), cbar=False, yticklabels=False, cmap='viridis')\n",
    "plt.title(\"Missing Data Heatmap\")\n",
    "# Save to file (you can change format and dpi)\n",
    "plt.savefig(\"stroke_output/missing_data_heatmap.png\", dpi=300, bbox_inches='tight')\n",
    "plt.show()"
   ]
  },
  {
   "cell_type": "code",
   "execution_count": null,
   "metadata": {},
   "outputs": [],
   "source": []
  },
  {
   "cell_type": "code",
   "execution_count": null,
   "metadata": {},
   "outputs": [],
   "source": []
  },
  {
   "cell_type": "code",
   "execution_count": null,
   "metadata": {},
   "outputs": [],
   "source": []
  },
  {
   "cell_type": "code",
   "execution_count": null,
   "metadata": {},
   "outputs": [],
   "source": []
  },
  {
   "cell_type": "code",
   "execution_count": null,
   "metadata": {},
   "outputs": [],
   "source": []
  },
  {
   "cell_type": "code",
   "execution_count": null,
   "metadata": {},
   "outputs": [],
   "source": []
  }
 ],
 "metadata": {
  "kernelspec": {
   "display_name": "venv",
   "language": "python",
   "name": "python3"
  },
  "language_info": {
   "codemirror_mode": {
    "name": "ipython",
    "version": 3
   },
   "file_extension": ".py",
   "mimetype": "text/x-python",
   "name": "python",
   "nbconvert_exporter": "python",
   "pygments_lexer": "ipython3",
   "version": "3.9.21"
  },
  "orig_nbformat": 4
 },
 "nbformat": 4,
 "nbformat_minor": 2
}
